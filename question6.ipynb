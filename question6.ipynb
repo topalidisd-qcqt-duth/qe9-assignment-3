{
 "cells": [
  {
   "cell_type": "code",
   "execution_count": 1,
   "id": "93e0bb4e-44ef-4980-97c2-c489414ebf70",
   "metadata": {},
   "outputs": [
    {
     "name": "stdout",
     "output_type": "stream",
     "text": [
      "Weights (w): [1.54088844 0.41595154 0.78344271]\n",
      "Bias (b): 5.023725391216585\n",
      "Predictions: [ 9.74684503  8.52145381 11.67768804 14.83392226 17.99015649 20.73043917\n",
      " 21.48788491 25.0116103 ]\n",
      "Actual: [10.  8. 12. 15. 18. 20. 22. 25.]\n",
      "Mean Squared Error: 0.15793791014639072\n"
     ]
    }
   ],
   "source": [
    "import numpy as np\n",
    "\n",
    "X = np.array([\n",
    "    [1.0, 2.0, 3.0],\n",
    "    [2.0, 1.0, 0.0],\n",
    "    [3.0, 3.0, 1.0],\n",
    "    [4.0, 5.0, 2.0],\n",
    "    [5.0, 7.0, 3.0],\n",
    "    [6.0, 8.0, 4.0],\n",
    "    [7.0, 8.0, 3.0],\n",
    "    [8.0, 9.0, 5.0]\n",
    "])\n",
    "\n",
    "y = np.array([10.0, 8.0, 12.0, 15.0, 18.0, 20.0, 22.0, 25.0])\n",
    "\n",
    "ones = np.ones((X.shape[0], 1))\n",
    "X_augmented = np.hstack((X, ones))\n",
    "X_presudoinverse = np.linalg.inv(X_augmented.T @ X_augmented) @ X_augmented.T \n",
    "\n",
    "w_augmented = X_presudoinverse@y\n",
    "\n",
    "w = w_augmented[:-1] \n",
    "b = w_augmented[-1] \n",
    "\n",
    "y_pred = X @ w + b\n",
    "\n",
    "print(\"Weights (w):\", w)\n",
    "print(\"Bias (b):\", b)\n",
    "print(\"Predictions:\", y_pred)\n",
    "print(\"Actual:\", y)\n",
    "print(\"Mean Squared Error:\", np.mean((y - y_pred)**2))"
   ]
  },
  {
   "cell_type": "code",
   "execution_count": null,
   "id": "792b3e57-4c20-499b-b7c4-267009b13e16",
   "metadata": {},
   "outputs": [],
   "source": []
  }
 ],
 "metadata": {
  "kernelspec": {
   "display_name": "qubit_control_env",
   "language": "python",
   "name": "qubit_control_env"
  },
  "language_info": {
   "codemirror_mode": {
    "name": "ipython",
    "version": 3
   },
   "file_extension": ".py",
   "mimetype": "text/x-python",
   "name": "python",
   "nbconvert_exporter": "python",
   "pygments_lexer": "ipython3",
   "version": "3.11.12"
  }
 },
 "nbformat": 4,
 "nbformat_minor": 5
}
